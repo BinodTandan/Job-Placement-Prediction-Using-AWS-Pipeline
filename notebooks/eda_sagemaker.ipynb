{
 "cells": [
  {
   "cell_type": "markdown",
   "id": "16bf2c8c-6be3-4ded-bd93-572fe058dfec",
   "metadata": {},
   "source": [
    "# JOB PLACEMENT CLASSIFICATION"
   ]
  },
  {
   "cell_type": "markdown",
   "id": "0b163fbc-2dc1-4f06-85ae-e08daf9d9279",
   "metadata": {},
   "source": [
    "### Step 1: Importing Libraries"
   ]
  },
  {
   "cell_type": "code",
   "execution_count": 103,
   "id": "0d2c8147-1698-4ad2-aaec-b4138e253936",
   "metadata": {
    "execution": {
     "iopub.execute_input": "2025-04-08T19:45:04.339813Z",
     "iopub.status.busy": "2025-04-08T19:45:04.339352Z",
     "iopub.status.idle": "2025-04-08T19:45:04.520145Z",
     "shell.execute_reply": "2025-04-08T19:45:04.519428Z",
     "shell.execute_reply.started": "2025-04-08T19:45:04.339781Z"
    },
    "executionRoleArn": "arn:aws:iam::211125546736:role/service-role/AmazonEMRStudio_RuntimeRole_1744132534762",
    "tags": []
   },
   "outputs": [
    {
     "data": {
      "application/vnd.jupyter.widget-view+json": {
       "model_id": "adbfffb60a024e6baed3d31daed8b17a",
       "version_major": 2,
       "version_minor": 0
      },
      "text/plain": [
       "VBox()"
      ]
     },
     "metadata": {},
     "output_type": "display_data"
    },
    {
     "data": {
      "application/vnd.jupyter.widget-view+json": {
       "model_id": "",
       "version_major": 2,
       "version_minor": 0
      },
      "text/plain": [
       "FloatProgress(value=0.0, bar_style='info', description='Progress:', layout=Layout(height='25px', width='50%'),…"
      ]
     },
     "metadata": {},
     "output_type": "display_data"
    }
   ],
   "source": [
    "# Let's start by importing necessary libraries\n",
    "# Using Spark ML library instead of MLlib \n",
    "\n",
    "from pyspark.sql import SparkSession\n",
    "from pyspark.sql.functions import when, col\n",
    "from pyspark.ml.feature import VectorAssembler\n",
    "from pyspark.ml.classification import DecisionTreeClassifier, RandomForestClassifier, LogisticRegression\n",
    "from pyspark.ml.evaluation import BinaryClassificationEvaluator, MulticlassClassificationEvaluator\n",
    "from pyspark.sql.functions import col, round\n",
    "from pyspark.sql.types import IntegerType, FloatType\n"
   ]
  },
  {
   "cell_type": "markdown",
   "id": "53f86897-2e4c-42a0-bc11-8008debfa805",
   "metadata": {},
   "source": [
    "### Step 2: Initilizing Spark Session\n"
   ]
  },
  {
   "cell_type": "code",
   "execution_count": 82,
   "id": "646e838b-b609-402c-af37-ed667232532a",
   "metadata": {
    "execution": {
     "iopub.execute_input": "2025-04-08T19:36:09.901583Z",
     "iopub.status.busy": "2025-04-08T19:36:09.901130Z",
     "iopub.status.idle": "2025-04-08T19:36:10.043994Z",
     "shell.execute_reply": "2025-04-08T19:36:10.043349Z",
     "shell.execute_reply.started": "2025-04-08T19:36:09.901552Z"
    },
    "executionRoleArn": "arn:aws:iam::211125546736:role/service-role/AmazonEMRStudio_RuntimeRole_1744132534762",
    "tags": []
   },
   "outputs": [
    {
     "data": {
      "application/vnd.jupyter.widget-view+json": {
       "model_id": "9ee9431a360a4d6abc2eb0c849a3b9ed",
       "version_major": 2,
       "version_minor": 0
      },
      "text/plain": [
       "VBox()"
      ]
     },
     "metadata": {},
     "output_type": "display_data"
    },
    {
     "data": {
      "application/vnd.jupyter.widget-view+json": {
       "model_id": "",
       "version_major": 2,
       "version_minor": 0
      },
      "text/plain": [
       "FloatProgress(value=0.0, bar_style='info', description='Progress:', layout=Layout(height='25px', width='50%'),…"
      ]
     },
     "metadata": {},
     "output_type": "display_data"
    }
   ],
   "source": [
    "spark = SparkSession.builder.appName(\"JobPlacement\").getOrCreate()"
   ]
  },
  {
   "cell_type": "markdown",
   "id": "7b9382c1-4b0f-4ed8-9eaf-63cb9d1baf9e",
   "metadata": {},
   "source": [
    "### Step 3: Load Cleaned Data from S3 (Cleaned Data from Hive)"
   ]
  },
  {
   "cell_type": "code",
   "execution_count": 83,
   "id": "f5633b46-8a41-4bf0-84f1-fb0c114f249d",
   "metadata": {
    "execution": {
     "iopub.execute_input": "2025-04-08T19:36:10.045218Z",
     "iopub.status.busy": "2025-04-08T19:36:10.044932Z",
     "iopub.status.idle": "2025-04-08T19:36:10.936819Z",
     "shell.execute_reply": "2025-04-08T19:36:10.936160Z",
     "shell.execute_reply.started": "2025-04-08T19:36:10.045192Z"
    },
    "executionRoleArn": "arn:aws:iam::211125546736:role/service-role/AmazonEMRStudio_RuntimeRole_1744132534762",
    "tags": []
   },
   "outputs": [
    {
     "data": {
      "application/vnd.jupyter.widget-view+json": {
       "model_id": "9245e04b93a14cab98df51b1815e2114",
       "version_major": 2,
       "version_minor": 0
      },
      "text/plain": [
       "VBox()"
      ]
     },
     "metadata": {},
     "output_type": "display_data"
    },
    {
     "data": {
      "application/vnd.jupyter.widget-view+json": {
       "model_id": "",
       "version_major": 2,
       "version_minor": 0
      },
      "text/plain": [
       "FloatProgress(value=0.0, bar_style='info', description='Progress:', layout=Layout(height='25px', width='50%'),…"
      ]
     },
     "metadata": {},
     "output_type": "display_data"
    }
   ],
   "source": [
    "# Load the Hive cleaned file (no headers)\n",
    "df = spark.read.csv('s3://group4project1/Processed/', header=False, inferSchema=True)\n",
    "\n"
   ]
  },
  {
   "cell_type": "code",
   "execution_count": 84,
   "id": "a40fe533-59f5-471b-ae35-693324a344ef",
   "metadata": {
    "execution": {
     "iopub.execute_input": "2025-04-08T19:36:10.938097Z",
     "iopub.status.busy": "2025-04-08T19:36:10.937800Z",
     "iopub.status.idle": "2025-04-08T19:36:11.086301Z",
     "shell.execute_reply": "2025-04-08T19:36:11.085502Z",
     "shell.execute_reply.started": "2025-04-08T19:36:10.938070Z"
    },
    "executionRoleArn": "arn:aws:iam::211125546736:role/service-role/AmazonEMRStudio_RuntimeRole_1744132534762",
    "tags": []
   },
   "outputs": [
    {
     "data": {
      "application/vnd.jupyter.widget-view+json": {
       "model_id": "cc07850f477945599f20c34639397be4",
       "version_major": 2,
       "version_minor": 0
      },
      "text/plain": [
       "VBox()"
      ]
     },
     "metadata": {},
     "output_type": "display_data"
    },
    {
     "data": {
      "application/vnd.jupyter.widget-view+json": {
       "model_id": "",
       "version_major": 2,
       "version_minor": 0
      },
      "text/plain": [
       "FloatProgress(value=0.0, bar_style='info', description='Progress:', layout=Layout(height='25px', width='50%'),…"
      ]
     },
     "metadata": {},
     "output_type": "display_data"
    },
    {
     "name": "stdout",
     "output_type": "stream",
     "text": [
      "root\n",
      " |-- _c0: string (nullable = true)\n",
      " |-- _c1: string (nullable = true)\n",
      " |-- _c2: string (nullable = true)\n",
      " |-- _c3: string (nullable = true)\n",
      " |-- _c4: string (nullable = true)\n",
      " |-- _c5: string (nullable = true)\n",
      " |-- _c6: string (nullable = true)\n",
      " |-- _c7: integer (nullable = true)\n",
      " |-- _c8: integer (nullable = true)\n",
      " |-- _c9: string (nullable = true)\n",
      " |-- _c10: string (nullable = true)\n",
      " |-- _c11: integer (nullable = true)"
     ]
    }
   ],
   "source": [
    "df.printSchema()"
   ]
  },
  {
   "cell_type": "code",
   "execution_count": 85,
   "id": "54cd108e-a17a-42e1-ae83-277a292f615c",
   "metadata": {
    "execution": {
     "iopub.execute_input": "2025-04-08T19:36:11.087639Z",
     "iopub.status.busy": "2025-04-08T19:36:11.087322Z",
     "iopub.status.idle": "2025-04-08T19:36:11.457168Z",
     "shell.execute_reply": "2025-04-08T19:36:11.456394Z",
     "shell.execute_reply.started": "2025-04-08T19:36:11.087611Z"
    },
    "executionRoleArn": "arn:aws:iam::211125546736:role/service-role/AmazonEMRStudio_RuntimeRole_1744132534762",
    "tags": []
   },
   "outputs": [
    {
     "data": {
      "application/vnd.jupyter.widget-view+json": {
       "model_id": "b56d5d1af1ef4e0f9ff0f0e2217f734f",
       "version_major": 2,
       "version_minor": 0
      },
      "text/plain": [
       "VBox()"
      ]
     },
     "metadata": {},
     "output_type": "display_data"
    },
    {
     "data": {
      "application/vnd.jupyter.widget-view+json": {
       "model_id": "",
       "version_major": 2,
       "version_minor": 0
      },
      "text/plain": [
       "FloatProgress(value=0.0, bar_style='info', description='Progress:', layout=Layout(height='25px', width='50%'),…"
      ]
     },
     "metadata": {},
     "output_type": "display_data"
    },
    {
     "name": "stdout",
     "output_type": "stream",
     "text": [
      "+---+---+---+---+---+---+---+---+---+---+----+----+\n",
      "|_c0|_c1|_c2|_c3|_c4|_c5|_c6|_c7|_c8|_c9|_c10|_c11|\n",
      "+---+---+---+---+---+---+---+---+---+---+----+----+\n",
      "| \\N| \\N| \\N| \\N| \\N| \\N| \\N|  0|  0| \\N|  \\N|   0|\n",
      "|  1|7.5|  1|  1|  1| 65|4.4|  0|  0| 61|  79|   0|\n",
      "|  2|8.9|  0|  3|  2| 90|4.0|  1|  1| 78|  82|   1|\n",
      "|  3|7.3|  1|  2|  2| 82|4.8|  1|  0| 79|  80|   0|\n",
      "|  4|7.5|  1|  1|  2| 85|4.4|  1|  1| 81|  80|   1|\n",
      "+---+---+---+---+---+---+---+---+---+---+----+----+\n",
      "only showing top 5 rows"
     ]
    }
   ],
   "source": [
    "df.show(5)"
   ]
  },
  {
   "cell_type": "code",
   "execution_count": 86,
   "id": "2d61f098-4a00-4616-b5ff-16b22167f47f",
   "metadata": {
    "execution": {
     "iopub.execute_input": "2025-04-08T19:36:11.458587Z",
     "iopub.status.busy": "2025-04-08T19:36:11.458270Z",
     "iopub.status.idle": "2025-04-08T19:36:11.607478Z",
     "shell.execute_reply": "2025-04-08T19:36:11.606847Z",
     "shell.execute_reply.started": "2025-04-08T19:36:11.458558Z"
    },
    "executionRoleArn": "arn:aws:iam::211125546736:role/service-role/AmazonEMRStudio_RuntimeRole_1744132534762",
    "tags": []
   },
   "outputs": [
    {
     "data": {
      "application/vnd.jupyter.widget-view+json": {
       "model_id": "49c749d7e1ce4ca7a37cf9ee3c37dd14",
       "version_major": 2,
       "version_minor": 0
      },
      "text/plain": [
       "VBox()"
      ]
     },
     "metadata": {},
     "output_type": "display_data"
    },
    {
     "data": {
      "application/vnd.jupyter.widget-view+json": {
       "model_id": "",
       "version_major": 2,
       "version_minor": 0
      },
      "text/plain": [
       "FloatProgress(value=0.0, bar_style='info', description='Progress:', layout=Layout(height='25px', width='50%'),…"
      ]
     },
     "metadata": {},
     "output_type": "display_data"
    }
   ],
   "source": [
    "# Now, let's provide the columns name\n",
    "\n",
    "columns = [\"std_id\", \"cgpa\", \"internship\", \"project\", \"certification\", \"testscore\", \n",
    "           \"softskillsrating\", \"extra\", \"placement\", \"ssc\", \"hsc\", \"placementstatus\"]\n",
    "\n",
    "df = df.toDF(*columns)"
   ]
  },
  {
   "cell_type": "code",
   "execution_count": 87,
   "id": "e81ee1d0-9c41-4cfc-9a2c-af44f29f1e73",
   "metadata": {
    "execution": {
     "iopub.execute_input": "2025-04-08T19:36:11.608695Z",
     "iopub.status.busy": "2025-04-08T19:36:11.608413Z",
     "iopub.status.idle": "2025-04-08T19:36:11.974540Z",
     "shell.execute_reply": "2025-04-08T19:36:11.973851Z",
     "shell.execute_reply.started": "2025-04-08T19:36:11.608669Z"
    },
    "executionRoleArn": "arn:aws:iam::211125546736:role/service-role/AmazonEMRStudio_RuntimeRole_1744132534762",
    "tags": []
   },
   "outputs": [
    {
     "data": {
      "application/vnd.jupyter.widget-view+json": {
       "model_id": "56579edf25f9485e8cb90b32c3ce9f9c",
       "version_major": 2,
       "version_minor": 0
      },
      "text/plain": [
       "VBox()"
      ]
     },
     "metadata": {},
     "output_type": "display_data"
    },
    {
     "data": {
      "application/vnd.jupyter.widget-view+json": {
       "model_id": "",
       "version_major": 2,
       "version_minor": 0
      },
      "text/plain": [
       "FloatProgress(value=0.0, bar_style='info', description='Progress:', layout=Layout(height='25px', width='50%'),…"
      ]
     },
     "metadata": {},
     "output_type": "display_data"
    },
    {
     "name": "stdout",
     "output_type": "stream",
     "text": [
      "+------+----+----------+-------+-------------+---------+----------------+-----+---------+---+---+---------------+\n",
      "|std_id|cgpa|internship|project|certification|testscore|softskillsrating|extra|placement|ssc|hsc|placementstatus|\n",
      "+------+----+----------+-------+-------------+---------+----------------+-----+---------+---+---+---------------+\n",
      "|    \\N|  \\N|        \\N|     \\N|           \\N|       \\N|              \\N|    0|        0| \\N| \\N|              0|\n",
      "|     1| 7.5|         1|      1|            1|       65|             4.4|    0|        0| 61| 79|              0|\n",
      "|     2| 8.9|         0|      3|            2|       90|             4.0|    1|        1| 78| 82|              1|\n",
      "|     3| 7.3|         1|      2|            2|       82|             4.8|    1|        0| 79| 80|              0|\n",
      "|     4| 7.5|         1|      1|            2|       85|             4.4|    1|        1| 81| 80|              1|\n",
      "+------+----+----------+-------+-------------+---------+----------------+-----+---------+---+---+---------------+\n",
      "only showing top 5 rows"
     ]
    }
   ],
   "source": [
    "df.show(5)"
   ]
  },
  {
   "cell_type": "markdown",
   "id": "a756b164-527e-43ca-9ced-662f1bfaa391",
   "metadata": {
    "execution": {
     "iopub.execute_input": "2025-04-08T18:03:13.627007Z",
     "iopub.status.busy": "2025-04-08T18:03:13.626586Z",
     "iopub.status.idle": "2025-04-08T18:03:13.798757Z",
     "shell.execute_reply": "2025-04-08T18:03:13.798112Z",
     "shell.execute_reply.started": "2025-04-08T18:03:13.626978Z"
    },
    "executionRoleArn": "arn:aws:iam::211125546736:role/service-role/AmazonEMRStudio_RuntimeRole_1744132534762",
    "tags": []
   },
   "source": [
    "### Step 4: Perform Data Preprocessing"
   ]
  },
  {
   "cell_type": "code",
   "execution_count": 88,
   "id": "86d37d15-c18c-4465-896a-b936e03b7aa7",
   "metadata": {
    "execution": {
     "iopub.execute_input": "2025-04-08T19:36:11.975863Z",
     "iopub.status.busy": "2025-04-08T19:36:11.975561Z",
     "iopub.status.idle": "2025-04-08T19:36:12.343378Z",
     "shell.execute_reply": "2025-04-08T19:36:12.342729Z",
     "shell.execute_reply.started": "2025-04-08T19:36:11.975836Z"
    },
    "executionRoleArn": "arn:aws:iam::211125546736:role/service-role/AmazonEMRStudio_RuntimeRole_1744132534762",
    "tags": []
   },
   "outputs": [
    {
     "data": {
      "application/vnd.jupyter.widget-view+json": {
       "model_id": "8b24e013163c403cb4e74c8e6102d7ac",
       "version_major": 2,
       "version_minor": 0
      },
      "text/plain": [
       "VBox()"
      ]
     },
     "metadata": {},
     "output_type": "display_data"
    },
    {
     "data": {
      "application/vnd.jupyter.widget-view+json": {
       "model_id": "",
       "version_major": 2,
       "version_minor": 0
      },
      "text/plain": [
       "FloatProgress(value=0.0, bar_style='info', description='Progress:', layout=Layout(height='25px', width='50%'),…"
      ]
     },
     "metadata": {},
     "output_type": "display_data"
    },
    {
     "name": "stdout",
     "output_type": "stream",
     "text": [
      "+------+-----+----------+-------+-------------+---------+----------------+-----+---------+-----+-----+---------------+\n",
      "|std_id| cgpa|internship|project|certification|testscore|softskillsrating|extra|placement|  ssc|  hsc|placementstatus|\n",
      "+------+-----+----------+-------+-------------+---------+----------------+-----+---------+-----+-----+---------------+\n",
      "| false|false|     false|  false|        false|    false|           false|false|    false|false|false|          false|\n",
      "| false|false|     false|  false|        false|    false|           false|false|    false|false|false|          false|\n",
      "| false|false|     false|  false|        false|    false|           false|false|    false|false|false|          false|\n",
      "| false|false|     false|  false|        false|    false|           false|false|    false|false|false|          false|\n",
      "| false|false|     false|  false|        false|    false|           false|false|    false|false|false|          false|\n",
      "| false|false|     false|  false|        false|    false|           false|false|    false|false|false|          false|\n",
      "| false|false|     false|  false|        false|    false|           false|false|    false|false|false|          false|\n",
      "| false|false|     false|  false|        false|    false|           false|false|    false|false|false|          false|\n",
      "| false|false|     false|  false|        false|    false|           false|false|    false|false|false|          false|\n",
      "| false|false|     false|  false|        false|    false|           false|false|    false|false|false|          false|\n",
      "| false|false|     false|  false|        false|    false|           false|false|    false|false|false|          false|\n",
      "| false|false|     false|  false|        false|    false|           false|false|    false|false|false|          false|\n",
      "| false|false|     false|  false|        false|    false|           false|false|    false|false|false|          false|\n",
      "| false|false|     false|  false|        false|    false|           false|false|    false|false|false|          false|\n",
      "| false|false|     false|  false|        false|    false|           false|false|    false|false|false|          false|\n",
      "| false|false|     false|  false|        false|    false|           false|false|    false|false|false|          false|\n",
      "| false|false|     false|  false|        false|    false|           false|false|    false|false|false|          false|\n",
      "| false|false|     false|  false|        false|    false|           false|false|    false|false|false|          false|\n",
      "| false|false|     false|  false|        false|    false|           false|false|    false|false|false|          false|\n",
      "| false|false|     false|  false|        false|    false|           false|false|    false|false|false|          false|\n",
      "+------+-----+----------+-------+-------------+---------+----------------+-----+---------+-----+-----+---------------+\n",
      "only showing top 20 rows"
     ]
    }
   ],
   "source": [
    "# Check for nulls\n",
    "df.select([df[c].isNull().alias(c) for c in df.columns]).show()"
   ]
  },
  {
   "cell_type": "code",
   "execution_count": 89,
   "id": "025a995b-bb10-4bd8-b4ee-8dd927cd91bd",
   "metadata": {
    "execution": {
     "iopub.execute_input": "2025-04-08T19:36:12.344689Z",
     "iopub.status.busy": "2025-04-08T19:36:12.344380Z",
     "iopub.status.idle": "2025-04-08T19:36:12.906386Z",
     "shell.execute_reply": "2025-04-08T19:36:12.905715Z",
     "shell.execute_reply.started": "2025-04-08T19:36:12.344662Z"
    },
    "executionRoleArn": "arn:aws:iam::211125546736:role/service-role/AmazonEMRStudio_RuntimeRole_1744132534762",
    "tags": []
   },
   "outputs": [
    {
     "data": {
      "application/vnd.jupyter.widget-view+json": {
       "model_id": "eaa26f75d3384bfb9ca12214a3b8dbca",
       "version_major": 2,
       "version_minor": 0
      },
      "text/plain": [
       "VBox()"
      ]
     },
     "metadata": {},
     "output_type": "display_data"
    },
    {
     "data": {
      "application/vnd.jupyter.widget-view+json": {
       "model_id": "",
       "version_major": 2,
       "version_minor": 0
      },
      "text/plain": [
       "FloatProgress(value=0.0, bar_style='info', description='Progress:', layout=Layout(height='25px', width='50%'),…"
      ]
     },
     "metadata": {},
     "output_type": "display_data"
    }
   ],
   "source": [
    "# Remove the first row with consits of \\N\n",
    "# Replace all '\\N' with None (null)\n",
    "for c in df.columns:\n",
    "    df = df.withColumn(c, when(col(c) == \"\\\\N\", None).otherwise(col(c)))"
   ]
  },
  {
   "cell_type": "code",
   "execution_count": 90,
   "id": "a13cb85c-7e72-490c-8328-56557a3a335b",
   "metadata": {
    "execution": {
     "iopub.execute_input": "2025-04-08T19:36:12.907697Z",
     "iopub.status.busy": "2025-04-08T19:36:12.907395Z",
     "iopub.status.idle": "2025-04-08T19:36:13.055030Z",
     "shell.execute_reply": "2025-04-08T19:36:13.054316Z",
     "shell.execute_reply.started": "2025-04-08T19:36:12.907671Z"
    },
    "executionRoleArn": "arn:aws:iam::211125546736:role/service-role/AmazonEMRStudio_RuntimeRole_1744132534762",
    "tags": []
   },
   "outputs": [
    {
     "data": {
      "application/vnd.jupyter.widget-view+json": {
       "model_id": "00ef2852008840fda34b850920b6be98",
       "version_major": 2,
       "version_minor": 0
      },
      "text/plain": [
       "VBox()"
      ]
     },
     "metadata": {},
     "output_type": "display_data"
    },
    {
     "data": {
      "application/vnd.jupyter.widget-view+json": {
       "model_id": "",
       "version_major": 2,
       "version_minor": 0
      },
      "text/plain": [
       "FloatProgress(value=0.0, bar_style='info', description='Progress:', layout=Layout(height='25px', width='50%'),…"
      ]
     },
     "metadata": {},
     "output_type": "display_data"
    }
   ],
   "source": [
    "# Now we can drop the column\n",
    "df = df.na.drop()"
   ]
  },
  {
   "cell_type": "code",
   "execution_count": 91,
   "id": "482340bf-2335-450a-ab4c-70ac3dedb83a",
   "metadata": {
    "execution": {
     "iopub.execute_input": "2025-04-08T19:36:13.056386Z",
     "iopub.status.busy": "2025-04-08T19:36:13.056087Z",
     "iopub.status.idle": "2025-04-08T19:36:13.482785Z",
     "shell.execute_reply": "2025-04-08T19:36:13.482045Z",
     "shell.execute_reply.started": "2025-04-08T19:36:13.056359Z"
    },
    "executionRoleArn": "arn:aws:iam::211125546736:role/service-role/AmazonEMRStudio_RuntimeRole_1744132534762",
    "tags": []
   },
   "outputs": [
    {
     "data": {
      "application/vnd.jupyter.widget-view+json": {
       "model_id": "733f2aaf103e4f4ab1499f5e00c93c9a",
       "version_major": 2,
       "version_minor": 0
      },
      "text/plain": [
       "VBox()"
      ]
     },
     "metadata": {},
     "output_type": "display_data"
    },
    {
     "data": {
      "application/vnd.jupyter.widget-view+json": {
       "model_id": "",
       "version_major": 2,
       "version_minor": 0
      },
      "text/plain": [
       "FloatProgress(value=0.0, bar_style='info', description='Progress:', layout=Layout(height='25px', width='50%'),…"
      ]
     },
     "metadata": {},
     "output_type": "display_data"
    },
    {
     "name": "stdout",
     "output_type": "stream",
     "text": [
      "+------+----+----------+-------+-------------+---------+----------------+-----+---------+---+---+---------------+\n",
      "|std_id|cgpa|internship|project|certification|testscore|softskillsrating|extra|placement|ssc|hsc|placementstatus|\n",
      "+------+----+----------+-------+-------------+---------+----------------+-----+---------+---+---+---------------+\n",
      "|     1| 7.5|         1|      1|            1|       65|             4.4|    0|        0| 61| 79|              0|\n",
      "|     2| 8.9|         0|      3|            2|       90|             4.0|    1|        1| 78| 82|              1|\n",
      "|     3| 7.3|         1|      2|            2|       82|             4.8|    1|        0| 79| 80|              0|\n",
      "|     4| 7.5|         1|      1|            2|       85|             4.4|    1|        1| 81| 80|              1|\n",
      "|     5| 8.3|         1|      2|            2|       86|             4.5|    1|        1| 74| 88|              1|\n",
      "+------+----+----------+-------+-------------+---------+----------------+-----+---------+---+---+---------------+\n",
      "only showing top 5 rows"
     ]
    }
   ],
   "source": [
    "df.show(5)"
   ]
  },
  {
   "cell_type": "code",
   "execution_count": 92,
   "id": "d0115e48-4833-494d-8616-b5860b8059ce",
   "metadata": {
    "execution": {
     "iopub.execute_input": "2025-04-08T19:36:13.484155Z",
     "iopub.status.busy": "2025-04-08T19:36:13.483836Z",
     "iopub.status.idle": "2025-04-08T19:36:13.858683Z",
     "shell.execute_reply": "2025-04-08T19:36:13.857916Z",
     "shell.execute_reply.started": "2025-04-08T19:36:13.484128Z"
    },
    "executionRoleArn": "arn:aws:iam::211125546736:role/service-role/AmazonEMRStudio_RuntimeRole_1744132534762",
    "tags": []
   },
   "outputs": [
    {
     "data": {
      "application/vnd.jupyter.widget-view+json": {
       "model_id": "74e6c7b4ba6d4b96a9fbf9147829de16",
       "version_major": 2,
       "version_minor": 0
      },
      "text/plain": [
       "VBox()"
      ]
     },
     "metadata": {},
     "output_type": "display_data"
    },
    {
     "data": {
      "application/vnd.jupyter.widget-view+json": {
       "model_id": "",
       "version_major": 2,
       "version_minor": 0
      },
      "text/plain": [
       "FloatProgress(value=0.0, bar_style='info', description='Progress:', layout=Layout(height='25px', width='50%'),…"
      ]
     },
     "metadata": {},
     "output_type": "display_data"
    }
   ],
   "source": [
    "# Now to convert string data type to integer\n",
    "\n",
    "# Cast each column to the correct type\n",
    "df = df.withColumn(\"std_id\", col(\"std_id\").cast(IntegerType())) \\\n",
    "       .withColumn(\"cgpa\", round(col(\"cgpa\").cast(FloatType()),2)) \\\n",
    "       .withColumn(\"internship\", col(\"internship\").cast(IntegerType())) \\\n",
    "       .withColumn(\"project\", col(\"project\").cast(IntegerType())) \\\n",
    "       .withColumn(\"certification\", col(\"certification\").cast(IntegerType())) \\\n",
    "       .withColumn(\"testscore\", col(\"testscore\").cast(IntegerType())) \\\n",
    "       .withColumn(\"softskillsrating\", round(col(\"softskillsrating\").cast(FloatType()),2)) \\\n",
    "       .withColumn(\"extra\", col(\"extra\").cast(IntegerType())) \\\n",
    "       .withColumn(\"placement\", col(\"placement\").cast(IntegerType())) \\\n",
    "       .withColumn(\"ssc\", col(\"ssc\").cast(IntegerType())) \\\n",
    "       .withColumn(\"hsc\", col(\"hsc\").cast(IntegerType())) \\\n",
    "       .withColumn(\"placementstatus\", col(\"placementstatus\").cast(IntegerType()))"
   ]
  },
  {
   "cell_type": "markdown",
   "id": "3a7a38ad-7e99-4554-b8af-345af3bb1538",
   "metadata": {},
   "source": [
    "### Step 5: Exploratory Data Analysis (EDA)"
   ]
  },
  {
   "cell_type": "code",
   "execution_count": 93,
   "id": "a0137e92-efae-411f-b3d4-b439e05dcef2",
   "metadata": {
    "execution": {
     "iopub.execute_input": "2025-04-08T19:36:13.860064Z",
     "iopub.status.busy": "2025-04-08T19:36:13.859747Z",
     "iopub.status.idle": "2025-04-08T19:36:15.320215Z",
     "shell.execute_reply": "2025-04-08T19:36:15.319543Z",
     "shell.execute_reply.started": "2025-04-08T19:36:13.860036Z"
    },
    "executionRoleArn": "arn:aws:iam::211125546736:role/service-role/AmazonEMRStudio_RuntimeRole_1744132534762",
    "tags": []
   },
   "outputs": [
    {
     "data": {
      "application/vnd.jupyter.widget-view+json": {
       "model_id": "9a9d667599fb459f97d7a1a8fb246e86",
       "version_major": 2,
       "version_minor": 0
      },
      "text/plain": [
       "VBox()"
      ]
     },
     "metadata": {},
     "output_type": "display_data"
    },
    {
     "data": {
      "application/vnd.jupyter.widget-view+json": {
       "model_id": "",
       "version_major": 2,
       "version_minor": 0
      },
      "text/plain": [
       "FloatProgress(value=0.0, bar_style='info', description='Progress:', layout=Layout(height='25px', width='50%'),…"
      ]
     },
     "metadata": {},
     "output_type": "display_data"
    },
    {
     "name": "stdout",
     "output_type": "stream",
     "text": [
      "+-------+------------------+------------------+------------------+------------------+------------------+-----------------+-------------------+-------------------+-------------------+------------------+-----------------+------------------+\n",
      "|summary|            std_id|              cgpa|        internship|           project|     certification|        testscore|   softskillsrating|              extra|          placement|               ssc|              hsc|   placementstatus|\n",
      "+-------+------------------+------------------+------------------+------------------+------------------+-----------------+-------------------+-------------------+-------------------+------------------+-----------------+------------------+\n",
      "|  count|             10000|             10000|             10000|             10000|             10000|            10000|              10000|              10000|              10000|             10000|            10000|             10000|\n",
      "|   mean|            5000.5| 7.698010003423691|            1.0492|            2.0266|            1.0132|          79.4499|  4.323960020947457|             0.5854|             0.7318|           69.1594|          74.5015|            0.4197|\n",
      "| stddev|2886.8956799071675|0.6401312550122191|0.6659006700478974|0.8679676127469719|0.9042718234873156|8.159996847110568|0.41162226336973756|0.49267749401744526|0.44304445469826537|10.430458814793756|8.919526531456382|0.4935344644771655|\n",
      "|    min|                 1|               6.5|                 0|                 0|                 0|               60|                3.0|                  0|                  0|                55|               57|                 0|\n",
      "|    max|             10000|               9.1|                 2|                 3|                 3|               90|                4.8|                  1|                  1|                90|               88|                 1|\n",
      "+-------+------------------+------------------+------------------+------------------+------------------+-----------------+-------------------+-------------------+-------------------+------------------+-----------------+------------------+"
     ]
    }
   ],
   "source": [
    "# Summerize the dataset\n",
    "df.describe().show()"
   ]
  },
  {
   "cell_type": "code",
   "execution_count": 94,
   "id": "550d0b54-df62-4d65-b25e-7b8005e3f1cd",
   "metadata": {
    "execution": {
     "iopub.execute_input": "2025-04-08T19:36:15.321462Z",
     "iopub.status.busy": "2025-04-08T19:36:15.321169Z",
     "iopub.status.idle": "2025-04-08T19:36:16.372414Z",
     "shell.execute_reply": "2025-04-08T19:36:16.371608Z",
     "shell.execute_reply.started": "2025-04-08T19:36:15.321435Z"
    },
    "executionRoleArn": "arn:aws:iam::211125546736:role/service-role/AmazonEMRStudio_RuntimeRole_1744132534762",
    "tags": []
   },
   "outputs": [
    {
     "data": {
      "application/vnd.jupyter.widget-view+json": {
       "model_id": "15cad6cf5319499a8bf448f94bd07cdc",
       "version_major": 2,
       "version_minor": 0
      },
      "text/plain": [
       "VBox()"
      ]
     },
     "metadata": {},
     "output_type": "display_data"
    },
    {
     "data": {
      "application/vnd.jupyter.widget-view+json": {
       "model_id": "",
       "version_major": 2,
       "version_minor": 0
      },
      "text/plain": [
       "FloatProgress(value=0.0, bar_style='info', description='Progress:', layout=Layout(height='25px', width='50%'),…"
      ]
     },
     "metadata": {},
     "output_type": "display_data"
    },
    {
     "name": "stdout",
     "output_type": "stream",
     "text": [
      "+---------------+-----+\n",
      "|placementstatus|count|\n",
      "+---------------+-----+\n",
      "|              1| 4197|\n",
      "|              0| 5803|\n",
      "+---------------+-----+"
     ]
    }
   ],
   "source": [
    "# Check for class imbalance\n",
    "\n",
    "df.groupBy(\"placementstatus\").count().show()"
   ]
  },
  {
   "cell_type": "markdown",
   "id": "3b12484f-1df9-49fe-81d6-0f374a8408f7",
   "metadata": {},
   "source": [
    "### Step 6: Assemble Initial Features"
   ]
  },
  {
   "cell_type": "code",
   "execution_count": 95,
   "id": "ed77042b-ed90-4d04-a4d3-d92266d50362",
   "metadata": {
    "execution": {
     "iopub.execute_input": "2025-04-08T19:36:16.373828Z",
     "iopub.status.busy": "2025-04-08T19:36:16.373500Z",
     "iopub.status.idle": "2025-04-08T19:36:16.756384Z",
     "shell.execute_reply": "2025-04-08T19:36:16.755712Z",
     "shell.execute_reply.started": "2025-04-08T19:36:16.373800Z"
    },
    "executionRoleArn": "arn:aws:iam::211125546736:role/service-role/AmazonEMRStudio_RuntimeRole_1744132534762",
    "tags": []
   },
   "outputs": [
    {
     "data": {
      "application/vnd.jupyter.widget-view+json": {
       "model_id": "ac482d40bb6144999bb8391b462403c0",
       "version_major": 2,
       "version_minor": 0
      },
      "text/plain": [
       "VBox()"
      ]
     },
     "metadata": {},
     "output_type": "display_data"
    },
    {
     "data": {
      "application/vnd.jupyter.widget-view+json": {
       "model_id": "",
       "version_major": 2,
       "version_minor": 0
      },
      "text/plain": [
       "FloatProgress(value=0.0, bar_style='info', description='Progress:', layout=Layout(height='25px', width='50%'),…"
      ]
     },
     "metadata": {},
     "output_type": "display_data"
    }
   ],
   "source": [
    "\n",
    "assembler = VectorAssembler(\n",
    "    inputCols=[\"cgpa\", \"internship\", \"project\", \"certification\", \n",
    "               \"testscore\", \"softskillsrating\", \"extra\", \n",
    "               \"placement\", \"ssc\", \"hsc\"], \n",
    "    outputCol=\"features\"\n",
    ")\n",
    "\n",
    "# Assemble features\n",
    "final_data = assembler.transform(df).select(\"features\", \"placementstatus\")\n"
   ]
  },
  {
   "cell_type": "markdown",
   "id": "6e2ccad5-0921-4457-8c3b-03918633204b",
   "metadata": {},
   "source": [
    "### Step 7: Feature Selection using Random Forest"
   ]
  },
  {
   "cell_type": "code",
   "execution_count": 96,
   "id": "48e660f2-3188-4c37-a6dc-d6d8625eb71b",
   "metadata": {
    "execution": {
     "iopub.execute_input": "2025-04-08T19:36:16.757702Z",
     "iopub.status.busy": "2025-04-08T19:36:16.757385Z",
     "iopub.status.idle": "2025-04-08T19:36:22.274026Z",
     "shell.execute_reply": "2025-04-08T19:36:22.273325Z",
     "shell.execute_reply.started": "2025-04-08T19:36:16.757673Z"
    },
    "executionRoleArn": "arn:aws:iam::211125546736:role/service-role/AmazonEMRStudio_RuntimeRole_1744132534762",
    "tags": []
   },
   "outputs": [
    {
     "data": {
      "application/vnd.jupyter.widget-view+json": {
       "model_id": "c3bd141e4fc345f8adad064a68f4ac74",
       "version_major": 2,
       "version_minor": 0
      },
      "text/plain": [
       "VBox()"
      ]
     },
     "metadata": {},
     "output_type": "display_data"
    },
    {
     "data": {
      "application/vnd.jupyter.widget-view+json": {
       "model_id": "",
       "version_major": 2,
       "version_minor": 0
      },
      "text/plain": [
       "FloatProgress(value=0.0, bar_style='info', description='Progress:', layout=Layout(height='25px', width='50%'),…"
      ]
     },
     "metadata": {},
     "output_type": "display_data"
    }
   ],
   "source": [
    "# First, Train Random Forest\n",
    "\n",
    "rf = RandomForestClassifier(labelCol=\"placementstatus\", featuresCol=\"features\", numTrees=50)\n",
    "rf_model = rf.fit(final_data)\n"
   ]
  },
  {
   "cell_type": "code",
   "execution_count": 97,
   "id": "24254251-6685-4133-87d3-9587cf8f52d4",
   "metadata": {
    "execution": {
     "iopub.execute_input": "2025-04-08T19:36:22.275443Z",
     "iopub.status.busy": "2025-04-08T19:36:22.275119Z",
     "iopub.status.idle": "2025-04-08T19:36:22.440911Z",
     "shell.execute_reply": "2025-04-08T19:36:22.440265Z",
     "shell.execute_reply.started": "2025-04-08T19:36:22.275414Z"
    },
    "executionRoleArn": "arn:aws:iam::211125546736:role/service-role/AmazonEMRStudio_RuntimeRole_1744132534762",
    "tags": []
   },
   "outputs": [
    {
     "data": {
      "application/vnd.jupyter.widget-view+json": {
       "model_id": "7fc5ee7bee4645f9a253b1bc02405277",
       "version_major": 2,
       "version_minor": 0
      },
      "text/plain": [
       "VBox()"
      ]
     },
     "metadata": {},
     "output_type": "display_data"
    },
    {
     "data": {
      "application/vnd.jupyter.widget-view+json": {
       "model_id": "",
       "version_major": 2,
       "version_minor": 0
      },
      "text/plain": [
       "FloatProgress(value=0.0, bar_style='info', description='Progress:', layout=Layout(height='25px', width='50%'),…"
      ]
     },
     "metadata": {},
     "output_type": "display_data"
    },
    {
     "name": "stdout",
     "output_type": "stream",
     "text": [
      "cgpa: 0.044870793266754694\n",
      "internship: 0.0006021943500142089\n",
      "project: 0.16259823358528794\n",
      "certification: 0.0541487966224545\n",
      "testscore: 0.1943758967442116\n",
      "softskillsrating: 0.027508224277824737\n",
      "extra: 0.2190301527676093\n",
      "placement: 0.013211577375403988\n",
      "ssc: 0.03672588438461719\n",
      "hsc: 0.24692824662582172"
     ]
    }
   ],
   "source": [
    "# Feature names\n",
    "feature_names = [\"cgpa\", \"internship\", \"project\", \"certification\", \n",
    "                 \"testscore\", \"softskillsrating\", \"extra\", \n",
    "                 \"placement\", \"ssc\", \"hsc\"]\n",
    "\n",
    "# Extract feature importances\n",
    "importances = rf_model.featureImportances\n",
    "\n",
    "# Print feature importance nicely\n",
    "for idx, importance in enumerate(importances):\n",
    "    print(f\"{feature_names[idx]}: {importance}\")"
   ]
  },
  {
   "cell_type": "markdown",
   "id": "3ca15f6c-12d7-4b6b-84e4-4649e24cd77c",
   "metadata": {},
   "source": [
    "#### So, from the above results we will exclude the features with value less then 0.04"
   ]
  },
  {
   "cell_type": "code",
   "execution_count": 98,
   "id": "864840e3-8118-43a1-ab3a-a5156f9a29d4",
   "metadata": {
    "execution": {
     "iopub.execute_input": "2025-04-08T19:36:22.442242Z",
     "iopub.status.busy": "2025-04-08T19:36:22.441917Z",
     "iopub.status.idle": "2025-04-08T19:36:22.818850Z",
     "shell.execute_reply": "2025-04-08T19:36:22.818108Z",
     "shell.execute_reply.started": "2025-04-08T19:36:22.442214Z"
    },
    "executionRoleArn": "arn:aws:iam::211125546736:role/service-role/AmazonEMRStudio_RuntimeRole_1744132534762",
    "tags": []
   },
   "outputs": [
    {
     "data": {
      "application/vnd.jupyter.widget-view+json": {
       "model_id": "f397ba8598884dca8b47095e44420ec2",
       "version_major": 2,
       "version_minor": 0
      },
      "text/plain": [
       "VBox()"
      ]
     },
     "metadata": {},
     "output_type": "display_data"
    },
    {
     "data": {
      "application/vnd.jupyter.widget-view+json": {
       "model_id": "",
       "version_major": 2,
       "version_minor": 0
      },
      "text/plain": [
       "FloatProgress(value=0.0, bar_style='info', description='Progress:', layout=Layout(height='25px', width='50%'),…"
      ]
     },
     "metadata": {},
     "output_type": "display_data"
    }
   ],
   "source": [
    "# Updated VectorAssembler after features selection\n",
    "\n",
    "\n",
    "assembler = VectorAssembler(\n",
    "    inputCols=[\"cgpa\", \"project\", \"certification\", \"testscore\", \"extra\", \"hsc\"], \n",
    "    outputCol=\"features\"\n",
    ")\n",
    "\n",
    "final_data = assembler.transform(df).select(\"features\", \"placementstatus\")"
   ]
  },
  {
   "cell_type": "code",
   "execution_count": 99,
   "id": "5cee21e0-d08a-4e7b-a968-f3c9c099b271",
   "metadata": {
    "execution": {
     "iopub.execute_input": "2025-04-08T19:36:22.820233Z",
     "iopub.status.busy": "2025-04-08T19:36:22.819922Z",
     "iopub.status.idle": "2025-04-08T19:36:23.218180Z",
     "shell.execute_reply": "2025-04-08T19:36:23.217482Z",
     "shell.execute_reply.started": "2025-04-08T19:36:22.820206Z"
    },
    "executionRoleArn": "arn:aws:iam::211125546736:role/service-role/AmazonEMRStudio_RuntimeRole_1744132534762",
    "tags": []
   },
   "outputs": [
    {
     "data": {
      "application/vnd.jupyter.widget-view+json": {
       "model_id": "6d9c383388284ca988a31952ea54bdf7",
       "version_major": 2,
       "version_minor": 0
      },
      "text/plain": [
       "VBox()"
      ]
     },
     "metadata": {},
     "output_type": "display_data"
    },
    {
     "data": {
      "application/vnd.jupyter.widget-view+json": {
       "model_id": "",
       "version_major": 2,
       "version_minor": 0
      },
      "text/plain": [
       "FloatProgress(value=0.0, bar_style='info', description='Progress:', layout=Layout(height='25px', width='50%'),…"
      ]
     },
     "metadata": {},
     "output_type": "display_data"
    },
    {
     "name": "stdout",
     "output_type": "stream",
     "text": [
      "+--------------------+---------------+\n",
      "|            features|placementstatus|\n",
      "+--------------------+---------------+\n",
      "|[7.5,1.0,1.0,65.0...|              0|\n",
      "|[8.89999961853027...|              1|\n",
      "|[7.30000019073486...|              0|\n",
      "|[7.5,1.0,2.0,85.0...|              1|\n",
      "|[8.30000019073486...|              1|\n",
      "+--------------------+---------------+\n",
      "only showing top 5 rows"
     ]
    }
   ],
   "source": [
    "final_data.show(5)"
   ]
  },
  {
   "cell_type": "markdown",
   "id": "700d12df-558a-421f-8bad-69bf8a7c311b",
   "metadata": {},
   "source": [
    "### Step 8: Test-Train Split"
   ]
  },
  {
   "cell_type": "code",
   "execution_count": 100,
   "id": "1d16035b-3913-495a-8bca-8b6473b3fae6",
   "metadata": {
    "execution": {
     "iopub.execute_input": "2025-04-08T19:38:42.971200Z",
     "iopub.status.busy": "2025-04-08T19:38:42.970731Z",
     "iopub.status.idle": "2025-04-08T19:38:44.435951Z",
     "shell.execute_reply": "2025-04-08T19:38:44.435279Z",
     "shell.execute_reply.started": "2025-04-08T19:38:42.971167Z"
    },
    "executionRoleArn": "arn:aws:iam::211125546736:role/service-role/AmazonEMRStudio_RuntimeRole_1744132534762",
    "tags": []
   },
   "outputs": [
    {
     "data": {
      "application/vnd.jupyter.widget-view+json": {
       "model_id": "cd90f40145a9439fb995144b4674c68b",
       "version_major": 2,
       "version_minor": 0
      },
      "text/plain": [
       "VBox()"
      ]
     },
     "metadata": {},
     "output_type": "display_data"
    },
    {
     "data": {
      "application/vnd.jupyter.widget-view+json": {
       "model_id": "",
       "version_major": 2,
       "version_minor": 0
      },
      "text/plain": [
       "FloatProgress(value=0.0, bar_style='info', description='Progress:', layout=Layout(height='25px', width='50%'),…"
      ]
     },
     "metadata": {},
     "output_type": "display_data"
    },
    {
     "name": "stdout",
     "output_type": "stream",
     "text": [
      "Training Data Count: 8079\n",
      "Test Data Count: 1921"
     ]
    }
   ],
   "source": [
    "# Split data 80% training, 20% testing\n",
    "train_data, test_data = final_data.randomSplit([0.8, 0.2], seed=42)\n",
    "\n",
    "print(f\"Training Data Count: {train_data.count()}\")\n",
    "print(f\"Test Data Count: {test_data.count()}\")"
   ]
  },
  {
   "cell_type": "markdown",
   "id": "7ee7a3cc-4758-4b5a-9f3a-3d86d0bf30f2",
   "metadata": {},
   "source": [
    "### Step 9: Model Training"
   ]
  },
  {
   "cell_type": "code",
   "execution_count": 101,
   "id": "f6756d57-ce24-403e-972f-dad53a277859",
   "metadata": {
    "execution": {
     "iopub.execute_input": "2025-04-08T19:40:27.586782Z",
     "iopub.status.busy": "2025-04-08T19:40:27.586319Z",
     "iopub.status.idle": "2025-04-08T19:40:31.097652Z",
     "shell.execute_reply": "2025-04-08T19:40:31.096988Z",
     "shell.execute_reply.started": "2025-04-08T19:40:27.586750Z"
    },
    "executionRoleArn": "arn:aws:iam::211125546736:role/service-role/AmazonEMRStudio_RuntimeRole_1744132534762",
    "tags": []
   },
   "outputs": [
    {
     "data": {
      "application/vnd.jupyter.widget-view+json": {
       "model_id": "4acaf19a822141e191f0548e220722b3",
       "version_major": 2,
       "version_minor": 0
      },
      "text/plain": [
       "VBox()"
      ]
     },
     "metadata": {},
     "output_type": "display_data"
    },
    {
     "data": {
      "application/vnd.jupyter.widget-view+json": {
       "model_id": "",
       "version_major": 2,
       "version_minor": 0
      },
      "text/plain": [
       "FloatProgress(value=0.0, bar_style='info', description='Progress:', layout=Layout(height='25px', width='50%'),…"
      ]
     },
     "metadata": {},
     "output_type": "display_data"
    }
   ],
   "source": [
    "# A. Decision Tree\n",
    "\n",
    "# Initialize Decision Tree\n",
    "decision_tree = DecisionTreeClassifier(labelCol=\"placementstatus\", featuresCol=\"features\")\n",
    "\n",
    "# Train the model\n",
    "dt_model = decision_tree.fit(train_data)\n",
    "\n",
    "# Predict on test data\n",
    "dt_predictions = dt_model.transform(test_data)"
   ]
  },
  {
   "cell_type": "code",
   "execution_count": 102,
   "id": "312b8595-5984-401a-b862-3c5b5b5cadd6",
   "metadata": {
    "execution": {
     "iopub.execute_input": "2025-04-08T19:41:15.766958Z",
     "iopub.status.busy": "2025-04-08T19:41:15.766387Z",
     "iopub.status.idle": "2025-04-08T19:41:19.331096Z",
     "shell.execute_reply": "2025-04-08T19:41:19.330314Z",
     "shell.execute_reply.started": "2025-04-08T19:41:15.766922Z"
    },
    "executionRoleArn": "arn:aws:iam::211125546736:role/service-role/AmazonEMRStudio_RuntimeRole_1744132534762",
    "tags": []
   },
   "outputs": [
    {
     "data": {
      "application/vnd.jupyter.widget-view+json": {
       "model_id": "fe9aadd45094468c9d6839864ebba3e2",
       "version_major": 2,
       "version_minor": 0
      },
      "text/plain": [
       "VBox()"
      ]
     },
     "metadata": {},
     "output_type": "display_data"
    },
    {
     "data": {
      "application/vnd.jupyter.widget-view+json": {
       "model_id": "",
       "version_major": 2,
       "version_minor": 0
      },
      "text/plain": [
       "FloatProgress(value=0.0, bar_style='info', description='Progress:', layout=Layout(height='25px', width='50%'),…"
      ]
     },
     "metadata": {},
     "output_type": "display_data"
    }
   ],
   "source": [
    "# B. Random Forest\n",
    "\n",
    "# Initialize Random Forest\n",
    "random_Forest = RandomForestClassifier(labelCol=\"placementstatus\", featuresCol=\"features\", numTrees=50)\n",
    "\n",
    "# Train the model\n",
    "rf_model = random_Forest.fit(train_data)\n",
    "\n",
    "# Predict on test data\n",
    "rf_predictions = rf_model.transform(test_data)"
   ]
  },
  {
   "cell_type": "code",
   "execution_count": 104,
   "id": "3bbfc6e6-bbde-458e-900e-48294ee4d988",
   "metadata": {
    "execution": {
     "iopub.execute_input": "2025-04-08T19:45:18.901245Z",
     "iopub.status.busy": "2025-04-08T19:45:18.900790Z",
     "iopub.status.idle": "2025-04-08T19:45:24.412217Z",
     "shell.execute_reply": "2025-04-08T19:45:24.411487Z",
     "shell.execute_reply.started": "2025-04-08T19:45:18.901216Z"
    },
    "executionRoleArn": "arn:aws:iam::211125546736:role/service-role/AmazonEMRStudio_RuntimeRole_1744132534762",
    "tags": []
   },
   "outputs": [
    {
     "data": {
      "application/vnd.jupyter.widget-view+json": {
       "model_id": "e3f29d5ba36d4a15a54ab8466075e430",
       "version_major": 2,
       "version_minor": 0
      },
      "text/plain": [
       "VBox()"
      ]
     },
     "metadata": {},
     "output_type": "display_data"
    },
    {
     "data": {
      "application/vnd.jupyter.widget-view+json": {
       "model_id": "",
       "version_major": 2,
       "version_minor": 0
      },
      "text/plain": [
       "FloatProgress(value=0.0, bar_style='info', description='Progress:', layout=Layout(height='25px', width='50%'),…"
      ]
     },
     "metadata": {},
     "output_type": "display_data"
    }
   ],
   "source": [
    "# Initialize Logistic Regression\n",
    "lr = LogisticRegression(labelCol=\"placementstatus\", featuresCol=\"features\", maxIter=50)\n",
    "\n",
    "# Train the model\n",
    "lr_model = lr.fit(train_data)\n",
    "\n",
    "# Predict on test data\n",
    "lr_predictions = lr_model.transform(test_data)"
   ]
  },
  {
   "cell_type": "markdown",
   "id": "4152c211-1b01-40dd-b0ce-b6aa654768a3",
   "metadata": {},
   "source": [
    "### Step 10: Model Evaluation"
   ]
  },
  {
   "cell_type": "code",
   "execution_count": 106,
   "id": "3d2c2441-b597-4415-81ab-1045e50476eb",
   "metadata": {
    "execution": {
     "iopub.execute_input": "2025-04-08T19:47:32.321296Z",
     "iopub.status.busy": "2025-04-08T19:47:32.320859Z",
     "iopub.status.idle": "2025-04-08T19:47:32.494448Z",
     "shell.execute_reply": "2025-04-08T19:47:32.493844Z",
     "shell.execute_reply.started": "2025-04-08T19:47:32.321264Z"
    },
    "executionRoleArn": "arn:aws:iam::211125546736:role/service-role/AmazonEMRStudio_RuntimeRole_1744132534762",
    "tags": []
   },
   "outputs": [
    {
     "data": {
      "application/vnd.jupyter.widget-view+json": {
       "model_id": "6f5c2832895c4e6a9bd494075038386d",
       "version_major": 2,
       "version_minor": 0
      },
      "text/plain": [
       "VBox()"
      ]
     },
     "metadata": {},
     "output_type": "display_data"
    },
    {
     "data": {
      "application/vnd.jupyter.widget-view+json": {
       "model_id": "",
       "version_major": 2,
       "version_minor": 0
      },
      "text/plain": [
       "FloatProgress(value=0.0, bar_style='info', description='Progress:', layout=Layout(height='25px', width='50%'),…"
      ]
     },
     "metadata": {},
     "output_type": "display_data"
    }
   ],
   "source": [
    "# Define function to calculate AUC, Accuracy, Precision, Recall, and F1 Score\n",
    "\n",
    "\n",
    "def evaluate_model(predictions, label_col=\"placementstatus\", prediction_col=\"prediction\", raw_prediction_col=\"rawPrediction\"):\n",
    "    binary_evaluator = BinaryClassificationEvaluator(labelCol=label_col, rawPredictionCol=raw_prediction_col, metricName=\"areaUnderROC\")\n",
    "    multi_evaluator_accuracy = MulticlassClassificationEvaluator(labelCol=label_col, predictionCol=prediction_col, metricName=\"accuracy\")\n",
    "    multi_evaluator_precision = MulticlassClassificationEvaluator(labelCol=label_col, predictionCol=prediction_col, metricName=\"weightedPrecision\")\n",
    "    multi_evaluator_recall = MulticlassClassificationEvaluator(labelCol=label_col, predictionCol=prediction_col, metricName=\"weightedRecall\")\n",
    "    multi_evaluator_f1 = MulticlassClassificationEvaluator(labelCol=label_col, predictionCol=prediction_col, metricName=\"f1\")\n",
    "    \n",
    "    return {\n",
    "        \"AUC\": binary_evaluator.evaluate(predictions),\n",
    "        \"Accuracy\": multi_evaluator_accuracy.evaluate(predictions),\n",
    "        \"Precision\": multi_evaluator_precision.evaluate(predictions),\n",
    "        \"Recall\": multi_evaluator_recall.evaluate(predictions),\n",
    "        \"F1 Score\": multi_evaluator_f1.evaluate(predictions)\n",
    "    }"
   ]
  },
  {
   "cell_type": "code",
   "execution_count": 107,
   "id": "44746f44-898f-44cc-aefb-830b33fc8d2f",
   "metadata": {
    "execution": {
     "iopub.execute_input": "2025-04-08T19:48:15.412060Z",
     "iopub.status.busy": "2025-04-08T19:48:15.411645Z",
     "iopub.status.idle": "2025-04-08T19:48:22.986790Z",
     "shell.execute_reply": "2025-04-08T19:48:22.986073Z",
     "shell.execute_reply.started": "2025-04-08T19:48:15.412028Z"
    },
    "executionRoleArn": "arn:aws:iam::211125546736:role/service-role/AmazonEMRStudio_RuntimeRole_1744132534762",
    "tags": []
   },
   "outputs": [
    {
     "data": {
      "application/vnd.jupyter.widget-view+json": {
       "model_id": "46e81a9f9b0f423b9ca5075d4380f417",
       "version_major": 2,
       "version_minor": 0
      },
      "text/plain": [
       "VBox()"
      ]
     },
     "metadata": {},
     "output_type": "display_data"
    },
    {
     "data": {
      "application/vnd.jupyter.widget-view+json": {
       "model_id": "",
       "version_major": 2,
       "version_minor": 0
      },
      "text/plain": [
       "FloatProgress(value=0.0, bar_style='info', description='Progress:', layout=Layout(height='25px', width='50%'),…"
      ]
     },
     "metadata": {},
     "output_type": "display_data"
    },
    {
     "name": "stdout",
     "output_type": "stream",
     "text": [
      "Decision Tree Metrics: {'AUC': 0.6163654103479036, 'Accuracy': 0.7829255596043727, 'Precision': 0.781739708331313, 'Recall': 0.7829255596043728, 'F1 Score': 0.7817660714033596}\n",
      "Random Forest Metrics: {'AUC': 0.8648338537020519, 'Accuracy': 0.797501301405518, 'Precision': 0.7967568268915035, 'Recall': 0.7975013014055179, 'F1 Score': 0.7969682095763184}\n",
      "Logistic Regression Metrics: {'AUC': 0.8658067573595006, 'Accuracy': 0.7954190525767829, 'Precision': 0.7956100204151382, 'Recall': 0.795419052576783, 'F1 Score': 0.795509081333289}"
     ]
    }
   ],
   "source": [
    "# Evaluate models\n",
    "\n",
    "# Evaluate Decision Tree\n",
    "dt_metrics = evaluate_model(dt_predictions)\n",
    "print(\"Decision Tree Metrics:\", dt_metrics)\n",
    "\n",
    "# Evaluate Random Forest\n",
    "rf_metrics = evaluate_model(rf_predictions)\n",
    "print(\"Random Forest Metrics:\", rf_metrics)\n",
    "\n",
    "# Evaluate Logistic Regression\n",
    "lr_metrics = evaluate_model(lr_predictions)\n",
    "print(\"Logistic Regression Metrics:\", lr_metrics)"
   ]
  },
  {
   "cell_type": "markdown",
   "id": "aff05d8e-3a51-4b0c-b70a-25b439c6c9d4",
   "metadata": {},
   "source": [
    "#### Result: Random Forest and Logistic Regression performed well then the Decison Tree. More Specificially, Random Forest accuracy is slightly more than the Logistic Regresssion while othe metrics are similar between logistic and random forest. Decision Tree is weaker because of lower AUC as well other metrics."
   ]
  },
  {
   "cell_type": "markdown",
   "id": "d7ea962f-019f-4878-b0e6-76167e9ff5f9",
   "metadata": {},
   "source": [
    "### Step 11: Save Models Predictions"
   ]
  },
  {
   "cell_type": "code",
   "execution_count": 109,
   "id": "8af5e212-d412-4b0e-a665-a2f8c7650d31",
   "metadata": {
    "execution": {
     "iopub.execute_input": "2025-04-08T20:22:00.769593Z",
     "iopub.status.busy": "2025-04-08T20:22:00.769160Z",
     "iopub.status.idle": "2025-04-08T20:22:03.327610Z",
     "shell.execute_reply": "2025-04-08T20:22:03.326884Z",
     "shell.execute_reply.started": "2025-04-08T20:22:00.769562Z"
    },
    "executionRoleArn": "arn:aws:iam::211125546736:role/service-role/AmazonEMRStudio_RuntimeRole_1744132534762",
    "tags": []
   },
   "outputs": [
    {
     "data": {
      "application/vnd.jupyter.widget-view+json": {
       "model_id": "e7e49d3578074eecb5850d537a57c3e2",
       "version_major": 2,
       "version_minor": 0
      },
      "text/plain": [
       "VBox()"
      ]
     },
     "metadata": {},
     "output_type": "display_data"
    },
    {
     "data": {
      "application/vnd.jupyter.widget-view+json": {
       "model_id": "",
       "version_major": 2,
       "version_minor": 0
      },
      "text/plain": [
       "FloatProgress(value=0.0, bar_style='info', description='Progress:', layout=Layout(height='25px', width='50%'),…"
      ]
     },
     "metadata": {},
     "output_type": "display_data"
    }
   ],
   "source": [
    "# Save Decision Tree Predictions\n",
    "dt_predictions.select(\"placementstatus\", \"prediction\") \\\n",
    "    .write.csv('s3://group4project1/Predictions/DecisionTree/', header=True)\n",
    "\n",
    "# Save Random Forest Predictions\n",
    "rf_predictions.select(\"placementstatus\", \"prediction\") \\\n",
    "    .write.csv('s3://group4project1/Predictions/RandomForest/', header=True)\n",
    "\n",
    "# Save Logistic Regression Predictions\n",
    "lr_predictions.select(\"placementstatus\", \"prediction\") \\\n",
    "    .write.csv('s3://group4project1/Predictions/LogisticRegression/', header=True)"
   ]
  },
  {
   "cell_type": "code",
   "execution_count": 110,
   "id": "fd8b7559-9b71-4bec-a3ae-c3d351ee23a6",
   "metadata": {
    "execution": {
     "iopub.execute_input": "2025-04-08T20:25:36.236996Z",
     "iopub.status.busy": "2025-04-08T20:25:36.236571Z",
     "iopub.status.idle": "2025-04-08T20:25:37.183677Z",
     "shell.execute_reply": "2025-04-08T20:25:37.183075Z",
     "shell.execute_reply.started": "2025-04-08T20:25:36.236965Z"
    },
    "executionRoleArn": "arn:aws:iam::211125546736:role/service-role/AmazonEMRStudio_RuntimeRole_1744132534762",
    "tags": []
   },
   "outputs": [
    {
     "data": {
      "application/vnd.jupyter.widget-view+json": {
       "model_id": "eb6961b093624c08bab49f9130a8eb00",
       "version_major": 2,
       "version_minor": 0
      },
      "text/plain": [
       "VBox()"
      ]
     },
     "metadata": {},
     "output_type": "display_data"
    },
    {
     "data": {
      "application/vnd.jupyter.widget-view+json": {
       "model_id": "",
       "version_major": 2,
       "version_minor": 0
      },
      "text/plain": [
       "FloatProgress(value=0.0, bar_style='info', description='Progress:', layout=Layout(height='25px', width='50%'),…"
      ]
     },
     "metadata": {},
     "output_type": "display_data"
    }
   ],
   "source": [
    "import pandas as pd\n",
    "\n",
    "# Organize your model metrics\n",
    "model_metrics = {\n",
    "    \"Model\": [\"Decision Tree\", \"Random Forest\", \"Logistic Regression\"],\n",
    "    \"AUC\": [dt_metrics[\"AUC\"], rf_metrics[\"AUC\"], lr_metrics[\"AUC\"]],\n",
    "    \"Accuracy\": [dt_metrics[\"Accuracy\"], rf_metrics[\"Accuracy\"], lr_metrics[\"Accuracy\"]],\n",
    "    \"Precision\": [dt_metrics[\"Precision\"], rf_metrics[\"Precision\"], lr_metrics[\"Precision\"]],\n",
    "    \"Recall\": [dt_metrics[\"Recall\"], rf_metrics[\"Recall\"], lr_metrics[\"Recall\"]],\n",
    "    \"F1 Score\": [dt_metrics[\"F1 Score\"], rf_metrics[\"F1 Score\"], lr_metrics[\"F1 Score\"]]\n",
    "}\n",
    "\n",
    "metrics_df = pd.DataFrame(model_metrics)\n"
   ]
  },
  {
   "cell_type": "code",
   "execution_count": 112,
   "id": "d8c20be8-4680-4718-b50d-2fdfb0c1b055",
   "metadata": {
    "execution": {
     "iopub.execute_input": "2025-04-08T20:29:21.713454Z",
     "iopub.status.busy": "2025-04-08T20:29:21.713037Z",
     "iopub.status.idle": "2025-04-08T20:29:21.894002Z",
     "shell.execute_reply": "2025-04-08T20:29:21.893340Z",
     "shell.execute_reply.started": "2025-04-08T20:29:21.713425Z"
    },
    "executionRoleArn": "arn:aws:iam::211125546736:role/service-role/AmazonEMRStudio_RuntimeRole_1744132534762",
    "tags": []
   },
   "outputs": [
    {
     "data": {
      "application/vnd.jupyter.widget-view+json": {
       "model_id": "b4eaada8b02c4d71895aec5d66437b36",
       "version_major": 2,
       "version_minor": 0
      },
      "text/plain": [
       "VBox()"
      ]
     },
     "metadata": {},
     "output_type": "display_data"
    },
    {
     "data": {
      "application/vnd.jupyter.widget-view+json": {
       "model_id": "",
       "version_major": 2,
       "version_minor": 0
      },
      "text/plain": [
       "FloatProgress(value=0.0, bar_style='info', description='Progress:', layout=Layout(height='25px', width='50%'),…"
      ]
     },
     "metadata": {},
     "output_type": "display_data"
    }
   ],
   "source": [
    "# Save locally\n",
    "metrics_df.to_csv('model_evaluation_results.csv', index=False)"
   ]
  },
  {
   "cell_type": "code",
   "execution_count": 116,
   "id": "980e92d1-0b99-46de-ae51-28994fd69899",
   "metadata": {
    "execution": {
     "iopub.execute_input": "2025-04-08T20:37:53.264075Z",
     "iopub.status.busy": "2025-04-08T20:37:53.263614Z",
     "iopub.status.idle": "2025-04-08T20:37:53.442991Z",
     "shell.execute_reply": "2025-04-08T20:37:53.442306Z",
     "shell.execute_reply.started": "2025-04-08T20:37:53.264044Z"
    },
    "executionRoleArn": "arn:aws:iam::211125546736:role/service-role/AmazonEMRStudio_RuntimeRole_1744132534762",
    "tags": []
   },
   "outputs": [
    {
     "data": {
      "application/vnd.jupyter.widget-view+json": {
       "model_id": "5902f4248af04f679a2f1d77256f6b7c",
       "version_major": 2,
       "version_minor": 0
      },
      "text/plain": [
       "VBox()"
      ]
     },
     "metadata": {},
     "output_type": "display_data"
    },
    {
     "data": {
      "application/vnd.jupyter.widget-view+json": {
       "model_id": "",
       "version_major": 2,
       "version_minor": 0
      },
      "text/plain": [
       "FloatProgress(value=0.0, bar_style='info', description='Progress:', layout=Layout(height='25px', width='50%'),…"
      ]
     },
     "metadata": {},
     "output_type": "display_data"
    },
    {
     "name": "stdout",
     "output_type": "stream",
     "text": [
      "/home/hadoop"
     ]
    }
   ],
   "source": [
    "import os\n",
    "print(os.getcwd())"
   ]
  },
  {
   "cell_type": "code",
   "execution_count": 117,
   "id": "990450b9-3cce-4510-87bd-c496a2dbb0fa",
   "metadata": {
    "execution": {
     "iopub.execute_input": "2025-04-08T20:39:04.985328Z",
     "iopub.status.busy": "2025-04-08T20:39:04.984856Z",
     "iopub.status.idle": "2025-04-08T20:39:05.919170Z",
     "shell.execute_reply": "2025-04-08T20:39:05.918527Z",
     "shell.execute_reply.started": "2025-04-08T20:39:04.985294Z"
    },
    "executionRoleArn": "arn:aws:iam::211125546736:role/service-role/AmazonEMRStudio_RuntimeRole_1744132534762",
    "tags": []
   },
   "outputs": [
    {
     "data": {
      "application/vnd.jupyter.widget-view+json": {
       "model_id": "72f956a55b704e5a8ffdca95e13dabf0",
       "version_major": 2,
       "version_minor": 0
      },
      "text/plain": [
       "VBox()"
      ]
     },
     "metadata": {},
     "output_type": "display_data"
    },
    {
     "data": {
      "application/vnd.jupyter.widget-view+json": {
       "model_id": "",
       "version_major": 2,
       "version_minor": 0
      },
      "text/plain": [
       "FloatProgress(value=0.0, bar_style='info', description='Progress:', layout=Layout(height='25px', width='50%'),…"
      ]
     },
     "metadata": {},
     "output_type": "display_data"
    },
    {
     "name": "stdout",
     "output_type": "stream",
     "text": [
      "/usr/local/lib/python3.7/site-packages/boto3/compat.py:82: PythonDeprecationWarning: Boto3 will no longer support Python 3.7 starting December 13, 2023. To continue receiving service updates, bug fixes, and security updates please upgrade to Python 3.8 or later. More information can be found here: https://aws.amazon.com/blogs/developer/python-support-policy-updates-for-aws-sdks-and-tools/\n",
      "  warnings.warn(warning, PythonDeprecationWarning)"
     ]
    }
   ],
   "source": [
    "import boto3\n",
    "\n",
    "# Create S3 client\n",
    "s3 = boto3.client('s3')\n",
    "\n",
    "# Open and upload the file\n",
    "with open('/home/hadoop/model_evaluation_results.csv', 'rb') as data:\n",
    "    s3.upload_fileobj(data, 'group4project1', 'EvaluationResults/model_evaluation_results.csv')\n"
   ]
  },
  {
   "cell_type": "code",
   "execution_count": null,
   "id": "72c397b9-c92e-4453-9ddf-36383dbbada1",
   "metadata": {},
   "outputs": [],
   "source": []
  }
 ],
 "metadata": {
  "kernelspec": {
   "display_name": "PySpark",
   "language": "python",
   "name": "spark_magic_pyspark"
  },
  "language_info": {
   "codemirror_mode": {
    "name": "python",
    "version": 3
   },
   "file_extension": ".py",
   "mimetype": "text/x-python",
   "name": "pyspark",
   "pygments_lexer": "python3"
  }
 },
 "nbformat": 4,
 "nbformat_minor": 5
}
